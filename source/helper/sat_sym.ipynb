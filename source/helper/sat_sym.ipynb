{
 "cells": [
  {
   "cell_type": "markdown",
   "metadata": {},
   "source": [
    "## SAT terms on material boundary interfaces"
   ]
  },
  {
   "cell_type": "code",
   "execution_count": 19,
   "metadata": {
    "collapsed": false
   },
   "outputs": [],
   "source": [
    "from sympy import *\n",
    "from sympy import oo"
   ]
  },
  {
   "cell_type": "markdown",
   "metadata": {},
   "source": [
    "v1/2  : velocity at + and - side.\n",
    "\n",
    "p1/2  : pressure at + and - side.\n",
    "\n",
    "Z1/2  : impedance at + and - side.\n",
    "\n",
    "sat1/2: SAT coefficients at + and - side."
   ]
  },
  {
   "cell_type": "code",
   "execution_count": 2,
   "metadata": {
    "collapsed": true
   },
   "outputs": [],
   "source": [
    "A, v1, v2, p1, p2, Z1, Z2, sat1, sat2, p_c = symbols('A v1 v2 p1 p2 Z1 Z2 sat1 sat2 pc')"
   ]
  },
  {
   "cell_type": "code",
   "execution_count": 2,
   "metadata": {
    "collapsed": true
   },
   "outputs": [],
   "source": [
    "init_printing(use_unicode=True)"
   ]
  },
  {
   "cell_type": "code",
   "execution_count": 12,
   "metadata": {
    "collapsed": false
   },
   "outputs": [],
   "source": [
    "vhat = (p2 - p1 + Z1*v1 + Z2*v2)/(Z1 + Z2)\n",
    "phat = (Z1*p2 + Z2*p1 + Z1*Z2*(v2 - v1))/(Z1 + Z2)"
   ]
  },
  {
   "cell_type": "code",
   "execution_count": 13,
   "metadata": {
    "collapsed": false
   },
   "outputs": [
    {
     "data": {
      "image/png": "[encoded data removed]",
      "text/latex": [
       "$$\\frac{1}{Z_{1} + Z_{2}} \\left(Z_{1} v_{1} + Z_{2} v_{2} - p_{1} + p_{2}\\right)$$"
      ],
      "text/plain": [
       "Z₁⋅v₁ + Z₂⋅v₂ - p₁ + p₂\n",
       "───────────────────────\n",
       "        Z₁ + Z₂        "
      ]
     },
     "execution_count": 13,
     "metadata": {},
     "output_type": "execute_result"
    }
   ],
   "source": [
    "vhat"
   ]
  },
  {
   "cell_type": "code",
   "execution_count": 14,
   "metadata": {
    "collapsed": false
   },
   "outputs": [
    {
     "data": {
      "image/png": "[encoded data removed]",
      "text/latex": [
       "$$\\frac{1}{Z_{1} + Z_{2}} \\left(Z_{1} Z_{2} \\left(- v_{1} + v_{2}\\right) + Z_{1} p_{2} + Z_{2} p_{1}\\right)$$"
      ],
      "text/plain": [
       "Z₁⋅Z₂⋅(-v₁ + v₂) + Z₁⋅p₂ + Z₂⋅p₁\n",
       "────────────────────────────────\n",
       "            Z₁ + Z₂             "
      ]
     },
     "execution_count": 14,
     "metadata": {},
     "output_type": "execute_result"
    }
   ],
   "source": [
    "phat"
   ]
  },
  {
   "cell_type": "code",
   "execution_count": 15,
   "metadata": {
    "collapsed": false
   },
   "outputs": [
    {
     "data": {
      "image/png": "[encoded data removed]",
      "text/latex": [
       "$$- \\frac{sat_{1}}{Z_{1} + Z_{2}} \\left(Z_{2} v_{1} - Z_{2} v_{2} + p_{1} - p_{2}\\right)$$"
      ],
      "text/plain": [
       "-sat₁⋅(Z₂⋅v₁ - Z₂⋅v₂ + p₁ - p₂) \n",
       "────────────────────────────────\n",
       "            Z₁ + Z₂             "
      ]
     },
     "execution_count": 15,
     "metadata": {},
     "output_type": "execute_result"
    }
   ],
   "source": [
    "simplify(-sat1*(v1 - vhat))"
   ]
  },
  {
   "cell_type": "code",
   "execution_count": 16,
   "metadata": {
    "collapsed": false
   },
   "outputs": [
    {
     "data": {
      "image/png": "[encoded data removed]",
      "text/latex": [
       "$$\\frac{sat_{2}}{Z_{1} + Z_{2}} \\left(Z_{1} v_{1} - Z_{1} v_{2} - p_{1} + p_{2}\\right)$$"
      ],
      "text/plain": [
       "sat₂⋅(Z₁⋅v₁ - Z₁⋅v₂ - p₁ + p₂)\n",
       "──────────────────────────────\n",
       "           Z₁ + Z₂            "
      ]
     },
     "execution_count": 16,
     "metadata": {},
     "output_type": "execute_result"
    }
   ],
   "source": [
    "simplify(-sat2*(v2 - vhat))"
   ]
  },
  {
   "cell_type": "code",
   "execution_count": 17,
   "metadata": {
    "collapsed": false
   },
   "outputs": [
    {
     "data": {
      "image/png": "[encoded data removed]",
      "text/latex": [
       "$$- \\frac{Z_{1} sat_{1}}{Z_{1} + Z_{2}} \\left(Z_{2} v_{1} - Z_{2} v_{2} + p_{1} - p_{2}\\right)$$"
      ],
      "text/plain": [
       "-Z₁⋅sat₁⋅(Z₂⋅v₁ - Z₂⋅v₂ + p₁ - p₂) \n",
       "───────────────────────────────────\n",
       "              Z₁ + Z₂              "
      ]
     },
     "execution_count": 17,
     "metadata": {},
     "output_type": "execute_result"
    }
   ],
   "source": [
    "simplify(-sat1*(p1 - phat))"
   ]
  },
  {
   "cell_type": "code",
   "execution_count": 18,
   "metadata": {
    "collapsed": false
   },
   "outputs": [
    {
     "data": {
      "image/png": "[encoded data removed]",
      "text/latex": [
       "$$\\frac{Z_{2} sat_{2}}{Z_{1} + Z_{2}} \\left(- Z_{1} v_{1} + Z_{1} v_{2} + p_{1} - p_{2}\\right)$$"
      ],
      "text/plain": [
       "Z₂⋅sat₂⋅(-Z₁⋅v₁ + Z₁⋅v₂ + p₁ - p₂)\n",
       "──────────────────────────────────\n",
       "             Z₁ + Z₂              "
      ]
     },
     "execution_count": 18,
     "metadata": {},
     "output_type": "execute_result"
    }
   ],
   "source": [
    "simplify(-sat2*(p2 - phat))"
   ]
  },
  {
   "cell_type": "markdown",
   "metadata": {},
   "source": [
    "### For a crack interface"
   ]
  },
  {
   "cell_type": "code",
   "execution_count": 19,
   "metadata": {
    "collapsed": false
   },
   "outputs": [
    {
     "name": "stdout",
     "output_type": "stream",
     "text": [
      "(Z1*v1 - p1 + pc)/Z1\n",
      "(Z2*v2 + p2 - pc)/Z2\n"
     ]
    }
   ],
   "source": [
    "vhat1 = (Z1*v1-p1 + p_c)/Z1\n",
    "vhat2 = (Z2*v2+p2 - p_c)/Z2\n",
    "print(vhat1)\n",
    "print(vhat2)"
   ]
  },
  {
   "cell_type": "code",
   "execution_count": 20,
   "metadata": {
    "collapsed": false
   },
   "outputs": [
    {
     "data": {
      "image/png": "[encoded data removed]",
      "text/latex": [
       "$$\\frac{1}{Z_{1} Z_{2}} \\left(Z_{1} sat_{2} \\left(p_{2} - pc\\right) - Z_{2} sat_{1} \\left(p_{1} - pc\\right)\\right)$$"
      ],
      "text/plain": [
       "Z₁⋅sat₂⋅(p₂ - pc) - Z₂⋅sat₁⋅(p₁ - pc)\n",
       "─────────────────────────────────────\n",
       "                Z₁⋅Z₂                "
      ]
     },
     "execution_count": 20,
     "metadata": {},
     "output_type": "execute_result"
    }
   ],
   "source": [
    "simplify(-sat1*(v1 - vhat1)-sat2*(v2-vhat2))"
   ]
  },
  {
   "cell_type": "code",
   "execution_count": 22,
   "metadata": {
    "collapsed": false
   },
   "outputs": [
    {
     "data": {
      "image/png": "[encoded data removed]",
      "text/latex": [
       "$$- sat_{1} \\left(p_{1} - pc\\right) - sat_{2} \\left(p_{2} - pc\\right)$$"
      ],
      "text/plain": [
       "-sat₁⋅(p₁ - pc) - sat₂⋅(p₂ - pc)"
      ]
     },
     "execution_count": 22,
     "metadata": {},
     "output_type": "execute_result"
    }
   ],
   "source": [
    "simplify(-sat1*(p1-p_c)-sat2*(p2-p_c))"
   ]
  },
  {
   "cell_type": "code",
   "execution_count": 23,
   "metadata": {
    "collapsed": false,
    "scrolled": false
   },
   "outputs": [
    {
     "data": {
      "image/png": "[encoded data removed]",
      "text/latex": [
       "$$- A v_{1} + A v_{2} + \\frac{A p_{2}}{Z_{2}} + \\frac{A p_{1}}{Z_{1}} + pc \\left(- \\frac{A}{Z_{2}} - \\frac{A}{Z_{1}}\\right)$$"
      ],
      "text/plain": [
       "               A⋅p₂   A⋅p₁      ⎛  A    A ⎞\n",
       "-A⋅v₁ + A⋅v₂ + ──── + ──── + pc⋅⎜- ── - ──⎟\n",
       "                Z₂     Z₁       ⎝  Z₂   Z₁⎠"
      ]
     },
     "execution_count": 23,
     "metadata": {},
     "output_type": "execute_result"
    }
   ],
   "source": [
    "Q = A*(vhat2 - vhat1)\n",
    "simplify(Q).expand().collect(p_c)"
   ]
  },
  {
   "cell_type": "markdown",
   "metadata": {},
   "source": [
    "### For a crack bottom"
   ]
  },
  {
   "cell_type": "code",
   "execution_count": 13,
   "metadata": {
    "collapsed": false
   },
   "outputs": [
    {
     "data": {
      "image/png": "[encoded data removed]",
      "text/latex": [
       "$$\\frac{1}{Z_{1}} \\left(Z_{1} v_{1} - p_{1} + pc\\right)$$"
      ],
      "text/plain": [
       "Z₁⋅v₁ - p₁ + pc\n",
       "───────────────\n",
       "       Z₁      "
      ]
     },
     "execution_count": 13,
     "metadata": {},
     "output_type": "execute_result"
    }
   ],
   "source": [
    "vhat1 = (Z1*v1-p1 + p_c)/Z1\n",
    "vhat1"
   ]
  },
  {
   "cell_type": "code",
   "execution_count": 14,
   "metadata": {
    "collapsed": false
   },
   "outputs": [
    {
     "data": {
      "image/png": "[encoded data removed]",
      "text/latex": [
       "$$- \\frac{sat_{1}}{Z_{1}} \\left(p_{1} - pc\\right)$$"
      ],
      "text/plain": [
       "-sat₁⋅(p₁ - pc) \n",
       "────────────────\n",
       "       Z₁       "
      ]
     },
     "execution_count": 14,
     "metadata": {},
     "output_type": "execute_result"
    }
   ],
   "source": [
    "simplify(-sat1*(v1 - vhat1))"
   ]
  },
  {
   "cell_type": "code",
   "execution_count": 15,
   "metadata": {
    "collapsed": false
   },
   "outputs": [
    {
     "data": {
      "image/png": "[encoded data removed]",
      "text/latex": [
       "$$sat_{1} \\left(- p_{1} + pc\\right)$$"
      ],
      "text/plain": [
       "sat₁⋅(-p₁ + pc)"
      ]
     },
     "execution_count": 15,
     "metadata": {},
     "output_type": "execute_result"
    }
   ],
   "source": [
    "simplify(-sat1*(p1 - pc))"
   ]
  },
  {
   "cell_type": "markdown",
   "metadata": {
    "collapsed": true
   },
   "source": [
    "## Material interface considering moving surface and cross-section area jump"
   ]
  },
  {
   "cell_type": "code",
   "execution_count": 36,
   "metadata": {
    "collapsed": false
   },
   "outputs": [],
   "source": [
    "A1, A2, v1, v2, p1, p2, rho1, c1, rho2, c2, Z1, Z2, eta, g = symbols('A1, A2, v1, v2, p1, p2, rho1, c1, rho2, c2, Z1, Z2, eta, g')\n",
    "# hat variables.\n",
    "v1hat, v2hat, p1hat, p2hat, sat1, sat2 = symbols('v1hat, v2hat, p1hat, p2hat, sat1, sat2')"
   ]
  },
  {
   "cell_type": "markdown",
   "metadata": {
    "collapsed": true
   },
   "source": [
    "### 1. a pure material interface with no jump in surface area, including the gravity term.\n",
    "\n",
    "v1/2  : velocity at + and - side.\n",
    "\n",
    "p1/2  : pressure at + and - side.\n",
    "\n",
    "Z1/2  : impedance at + and - side.\n",
    "\n",
    "eta   : moving surface location, positive in vertical up direction"
   ]
  },
  {
   "cell_type": "code",
   "execution_count": 37,
   "metadata": {
    "collapsed": true
   },
   "outputs": [],
   "source": [
    "# continuity of pressure and velocity at the moving interface\n",
    "# p_1(eta) = p_2(eta)\n",
    "# v_1(eta) = v_2(eta)\n",
    "\n",
    "# linearization the interface condition\n",
    "\n",
    "# pressure:\n",
    "# note that p1/2_z is dominated by the pressure of the background state.\n",
    "# p1(eta) = p1(0)+ p1_z*eta = p1 - rho1*g*eta\n",
    "# p2(eta) = p2(0)+ p2_z*eta = p2 - rho2*g*eta\n",
    "\n",
    "# velocity:\n",
    "# there's not velocity gradient in the background state, therefore v1/2_z*eta is a second order term\n",
    "# v1(eta) = v1(0)+ v1_z*eta = v1\n",
    "# v2(eta) = v2(0)+ v2_z*eta = v2\n",
    "\n",
    "# Jump condition in terms of p1, and p2 (evaludated at the un-perturbed interface)\n",
    "# p1hat - p2hat = (rho1-rho2)*g*eta\n",
    "# v1hat - v2hat = 0\n",
    "\n",
    "# At -/+ side of interface, we need to preserving the upgoing/downgoing characteristics\n",
    "#  Z2*v2+p2 = Z2*v2hat+p2hat\n",
    "#  Z1*v1-p1 = Z1*v1hat-p1hat\n",
    "\n",
    "# Finally we have an kinematic equation relating moving surface height to interface velocity\n",
    "# eta_t = vhat"
   ]
  },
  {
   "cell_type": "code",
   "execution_count": 49,
   "metadata": {
    "collapsed": false
   },
   "outputs": [
    {
     "data": {
      "image/png": "[encoded data removed]",
      "text/latex": [
       "$$\\frac{1}{Z_{1} + Z_{2}} \\left(Z_{1} v_{1} + Z_{2} v_{2} + \\eta g \\left(\\rho_{1} - \\rho_{2}\\right) - p_{1} + p_{2}\\right)$$"
      ],
      "text/plain": [
       "Z₁⋅v₁ + Z₂⋅v₂ + η⋅g⋅(ρ₁ - ρ₂) - p₁ + p₂\n",
       "───────────────────────────────────────\n",
       "                Z₁ + Z₂                "
      ]
     },
     "execution_count": 49,
     "metadata": {},
     "output_type": "execute_result"
    }
   ],
   "source": [
    "v1hat = v2hat = ((Z1*v1-p1) + (Z2*v2+p2) + (rho1-rho2)*g*eta)/(Z1+Z2)\n",
    "p1hat = -(Z1*v1-p1 - Z1*v1hat)\n",
    "p2hat = Z2*v2+p2 - Z2*v2hat\n",
    "simplify(v1hat)\n",
    "# if we set g=0, we should make sure the expressions recover to the previous simpler version."
   ]
  },
  {
   "cell_type": "code",
   "execution_count": 50,
   "metadata": {
    "collapsed": false
   },
   "outputs": [
    {
     "data": {
      "image/png": "[encoded data removed]",
      "text/latex": [
       "$$- \\frac{sat_{1}}{Z_{1} + Z_{2}} \\left(Z_{2} v_{1} - Z_{2} v_{2} - \\eta g \\rho_{1} + \\eta g \\rho_{2} + p_{1} - p_{2}\\right)$$"
      ],
      "text/plain": [
       "-sat₁⋅(Z₂⋅v₁ - Z₂⋅v₂ - η⋅g⋅ρ₁ + η⋅g⋅ρ₂ + p₁ - p₂) \n",
       "──────────────────────────────────────────────────\n",
       "                     Z₁ + Z₂                      "
      ]
     },
     "execution_count": 50,
     "metadata": {},
     "output_type": "execute_result"
    }
   ],
   "source": [
    "# sat terms for velocity and pressure.\n",
    "simplify(-sat1*(v1 - v1hat))"
   ]
  },
  {
   "cell_type": "code",
   "execution_count": 48,
   "metadata": {
    "collapsed": false
   },
   "outputs": [
    {
     "data": {
      "image/png": "[encoded data removed]",
      "text/latex": [
       "$$\\frac{sat_{2}}{Z_{1} + Z_{2}} \\left(Z_{1} v_{1} - Z_{1} v_{2} + \\eta g \\rho_{1} - \\eta g \\rho_{2} - p_{1} + p_{2}\\right)$$"
      ],
      "text/plain": [
       "sat₂⋅(Z₁⋅v₁ - Z₁⋅v₂ + η⋅g⋅ρ₁ - η⋅g⋅ρ₂ - p₁ + p₂)\n",
       "────────────────────────────────────────────────\n",
       "                    Z₁ + Z₂                     "
      ]
     },
     "execution_count": 48,
     "metadata": {},
     "output_type": "execute_result"
    }
   ],
   "source": [
    "simplify(-sat2*(v2-v2hat))"
   ]
  },
  {
   "cell_type": "code",
   "execution_count": 41,
   "metadata": {
    "collapsed": false
   },
   "outputs": [
    {
     "data": {
      "image/png": "[encoded data removed]",
      "text/latex": [
       "$$- \\frac{Z_{1} sat_{1}}{Z_{1} + Z_{2}} \\left(Z_{2} v_{1} - Z_{2} v_{2} - \\eta g \\rho_{1} + \\eta g \\rho_{2} + p_{1} - p_{2}\\right)$$"
      ],
      "text/plain": [
       "-Z₁⋅sat₁⋅(Z₂⋅v₁ - Z₂⋅v₂ - η⋅g⋅ρ₁ + η⋅g⋅ρ₂ + p₁ - p₂) \n",
       "─────────────────────────────────────────────────────\n",
       "                       Z₁ + Z₂                       "
      ]
     },
     "execution_count": 41,
     "metadata": {},
     "output_type": "execute_result"
    }
   ],
   "source": [
    "simplify(-sat1*(p1 - p1hat))"
   ]
  },
  {
   "cell_type": "code",
   "execution_count": 42,
   "metadata": {
    "collapsed": false,
    "scrolled": true
   },
   "outputs": [
    {
     "data": {
      "image/png": "[encoded data removed]",
      "text/latex": [
       "$$\\frac{Z_{2} sat_{2}}{Z_{1} + Z_{2}} \\left(- Z_{1} v_{1} + Z_{1} v_{2} - \\eta g \\rho_{1} + \\eta g \\rho_{2} + p_{1} - p_{2}\\right)$$"
      ],
      "text/plain": [
       "Z₂⋅sat₂⋅(-Z₁⋅v₁ + Z₁⋅v₂ - η⋅g⋅ρ₁ + η⋅g⋅ρ₂ + p₁ - p₂)\n",
       "────────────────────────────────────────────────────\n",
       "                      Z₁ + Z₂                       "
      ]
     },
     "execution_count": 42,
     "metadata": {},
     "output_type": "execute_result"
    }
   ],
   "source": [
    "simplify(-sat2*(p2-p2hat))"
   ]
  },
  {
   "cell_type": "markdown",
   "metadata": {},
   "source": [
    "### 1. a pure jump in cross-section with no jump in material properties.\n",
    "\n",
    "A1/2  : cross-section at + and - side.\n",
    "\n",
    "v1/2  : velocity at + and - side.\n",
    "\n",
    "p1/2  : pressure at + and - side.\n",
    "\n",
    "Z1/2  : impedance at + and - side.\n",
    "\n",
    "eta   : moving surface location, positive in vertical up direction"
   ]
  },
  {
   "cell_type": "code",
   "execution_count": 55,
   "metadata": {
    "collapsed": false
   },
   "outputs": [
    {
     "data": {
      "image/png": "[encoded data removed]",
      "text/latex": [
       "$$\\frac{1}{A_{1} Z_{2} \\rho_{1} - A_{2} Z_{1} \\rho_{2}} \\left(A_{1} Z_{2} \\rho_{1} \\left(Z_{1} v_{1} - Z_{2} v_{2} + p_{1} - p_{2}\\right) + \\left(Z_{2} v_{2} + p_{2}\\right) \\left(A_{1} Z_{2} \\rho_{1} - A_{2} Z_{1} \\rho_{2}\\right)\\right)$$"
      ],
      "text/plain": [
       "A₁⋅Z₂⋅ρ₁⋅(Z₁⋅v₁ - Z₂⋅v₂ + p₁ - p₂) + (Z₂⋅v₂ + p₂)⋅(A₁⋅Z₂⋅ρ₁ - A₂⋅Z₁⋅ρ₂)\n",
       "───────────────────────────────────────────────────────────────────────\n",
       "                          A₁⋅Z₂⋅ρ₁ - A₂⋅Z₁⋅ρ₂                          "
      ]
     },
     "execution_count": 55,
     "metadata": {},
     "output_type": "execute_result"
    }
   ],
   "source": [
    "# conservation of mass and momentum:\n",
    "# (A*rho)_t + (A*rho*v)_z = 0\n",
    "# (A*rho*v)_t + (A*p)_z = 0\n",
    "\n",
    "# Jump conditions:\n",
    "# A1*rho1*v1hat = A2*rho2*v2hat\n",
    "# p1hat         = p2hat\n",
    "\n",
    "# preserving the two characteristics:\n",
    "#  Z2*v2+p2 = Z2*v2hat+p2hat\n",
    "#  Z1*v1-p1 = Z1*v1hat-p1hat\n",
    "\n",
    "# Z1*v1hat - Z2*v2hat = (Z1*v1+p1) - (Z2*v2+p2)\n",
    "# Z1*v1hat - Z2*A1*rho1/(A2*rho2)*v1hat = (Z1*v1+p1)*A1 - (Z2*v2+p2)*A2\n",
    "v1hat = ((Z1*v1+p1) - (Z2*v2+p2))/(Z1 - Z2*A1/A2*rho1/rho2)\n",
    "v2hat = A1*rho1*v1hat/(A2*rho2)\n",
    "p2hat = Z2*v2+p2-(Z2*v2hat)\n",
    "p1hat = Z1*v1+p1-(Z1*v1hat)\n",
    "\n",
    "simplify(v1hat)\n",
    "simplify(v2hat)\n",
    "simplify(p1hat)\n",
    "simplify(p2hat)"
   ]
  },
  {
   "cell_type": "code",
   "execution_count": 56,
   "metadata": {
    "collapsed": false
   },
   "outputs": [
    {
     "data": {
      "image/png": "[encoded data removed]",
      "text/latex": [
       "$$\\frac{1}{A_{1} Z_{2} \\rho_{1} - A_{2} Z_{1} \\rho_{2}} \\left(Z_{1} sat_{1} \\left(A_{2} \\rho_{2} \\left(Z_{1} v_{1} - Z_{2} v_{2} + p_{1} - p_{2}\\right) + v_{1} \\left(A_{1} Z_{2} \\rho_{1} - A_{2} Z_{1} \\rho_{2}\\right)\\right) + Z_{2} sat_{2} \\left(A_{1} \\rho_{1} \\left(Z_{1} v_{1} - Z_{2} v_{2} + p_{1} - p_{2}\\right) + v_{2} \\left(A_{1} Z_{2} \\rho_{1} - A_{2} Z_{1} \\rho_{2}\\right)\\right)\\right)$$"
      ],
      "text/plain": [
       "Z₁⋅sat₁⋅(A₂⋅ρ₂⋅(Z₁⋅v₁ - Z₂⋅v₂ + p₁ - p₂) + v₁⋅(A₁⋅Z₂⋅ρ₁ - A₂⋅Z₁⋅ρ₂)) + Z₂⋅sat₂\n",
       "──────────────────────────────────────────────────────────────────────────────\n",
       "                                                            A₁⋅Z₂⋅ρ₁ - A₂⋅Z₁⋅ρ\n",
       "\n",
       "⋅(A₁⋅ρ₁⋅(Z₁⋅v₁ - Z₂⋅v₂ + p₁ - p₂) + v₂⋅(A₁⋅Z₂⋅ρ₁ - A₂⋅Z₁⋅ρ₂))\n",
       "─────────────────────────────────────────────────────────────\n",
       "₂                                                            "
      ]
     },
     "execution_count": 56,
     "metadata": {},
     "output_type": "execute_result"
    }
   ],
   "source": [
    "# sat terms for velocity and pressure.\n",
    "simplify(-sat1*(v1 - v1hat)-sat2*(v2-v2hat))\n",
    "simplify(-sat1*(p1 - p1hat)-sat2*(p2-p2hat))"
   ]
  },
  {
   "cell_type": "code",
   "execution_count": null,
   "metadata": {
    "collapsed": true
   },
   "outputs": [],
   "source": []
  }
 ],
 "metadata": {
  "anaconda-cloud": {},
  "kernelspec": {
   "display_name": "Python [Root]",
   "language": "python",
   "name": "Python [Root]"
  },
  "language_info": {
   "codemirror_mode": {
    "name": "ipython",
    "version": 3
   },
   "file_extension": ".py",
   "mimetype": "text/x-python",
   "name": "python",
   "nbconvert_exporter": "python",
   "pygments_lexer": "ipython3",
   "version": "3.5.2"
  }
 },
 "nbformat": 4,
 "nbformat_minor": 2
}
