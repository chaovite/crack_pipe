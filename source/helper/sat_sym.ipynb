{
 "cells": [
  {
   "cell_type": "markdown",
   "metadata": {},
   "source": [
    "## SAT terms on material boundary interfaces"
   ]
  },
  {
   "cell_type": "code",
   "execution_count": 1,
   "metadata": {
    "collapsed": true
   },
   "outputs": [],
   "source": [
    "from sympy import *\n",
    "from sympy import oo"
   ]
  },
  {
   "cell_type": "markdown",
   "metadata": {},
   "source": [
    "v1/2  : velocity at + and - side.\n",
    "\n",
    "p1/2  : pressure at + and - side.\n",
    "\n",
    "Z1/2  : impedance at + and - side.\n",
    "\n",
    "sat1/2: SAT coefficients at + and - side."
   ]
  },
  {
   "cell_type": "code",
   "execution_count": 10,
   "metadata": {
    "collapsed": true
   },
   "outputs": [],
   "source": [
    "A, v1, v2, p1, p2, Z1, Z2, sat1, sat2, p_c = symbols('A v1 v2 p1 p2 Z1 Z2 sat1 sat2 pc')"
   ]
  },
  {
   "cell_type": "code",
   "execution_count": 11,
   "metadata": {
    "collapsed": true
   },
   "outputs": [],
   "source": [
    "init_printing(use_unicode=True)"
   ]
  },
  {
   "cell_type": "code",
   "execution_count": 12,
   "metadata": {
    "collapsed": false
   },
   "outputs": [],
   "source": [
    "vhat = (p2 - p1 + Z1*v1 + Z2*v2)/(Z1 + Z2)\n",
    "phat = (Z1*p2 + Z2*p1 + Z1*Z2*(v2 - v1))/(Z1 + Z2)"
   ]
  },
  {
   "cell_type": "code",
   "execution_count": 13,
   "metadata": {
    "collapsed": false
   },
   "outputs": [
    {
     "data": {
      "image/png": "[encoded data removed]",
      "text/latex": [
       "$$\\frac{1}{Z_{1} + Z_{2}} \\left(Z_{1} v_{1} + Z_{2} v_{2} - p_{1} + p_{2}\\right)$$"
      ],
      "text/plain": [
       "Z₁⋅v₁ + Z₂⋅v₂ - p₁ + p₂\n",
       "───────────────────────\n",
       "        Z₁ + Z₂        "
      ]
     },
     "execution_count": 13,
     "metadata": {},
     "output_type": "execute_result"
    }
   ],
   "source": [
    "vhat"
   ]
  },
  {
   "cell_type": "code",
   "execution_count": 14,
   "metadata": {
    "collapsed": false
   },
   "outputs": [
    {
     "data": {
      "image/png": "[encoded data removed]",
      "text/latex": [
       "$$\\frac{1}{Z_{1} + Z_{2}} \\left(Z_{1} Z_{2} \\left(- v_{1} + v_{2}\\right) + Z_{1} p_{2} + Z_{2} p_{1}\\right)$$"
      ],
      "text/plain": [
       "Z₁⋅Z₂⋅(-v₁ + v₂) + Z₁⋅p₂ + Z₂⋅p₁\n",
       "────────────────────────────────\n",
       "            Z₁ + Z₂             "
      ]
     },
     "execution_count": 14,
     "metadata": {},
     "output_type": "execute_result"
    }
   ],
   "source": [
    "phat"
   ]
  },
  {
   "cell_type": "code",
   "execution_count": 15,
   "metadata": {
    "collapsed": false
   },
   "outputs": [
    {
     "data": {
      "image/png": "[encoded data removed]",
      "text/latex": [
       "$$- \\frac{sat_{1}}{Z_{1} + Z_{2}} \\left(Z_{2} v_{1} - Z_{2} v_{2} + p_{1} - p_{2}\\right)$$"
      ],
      "text/plain": [
       "-sat₁⋅(Z₂⋅v₁ - Z₂⋅v₂ + p₁ - p₂) \n",
       "────────────────────────────────\n",
       "            Z₁ + Z₂             "
      ]
     },
     "execution_count": 15,
     "metadata": {},
     "output_type": "execute_result"
    }
   ],
   "source": [
    "simplify(-sat1*(v1 - vhat))"
   ]
  },
  {
   "cell_type": "code",
   "execution_count": 16,
   "metadata": {
    "collapsed": false
   },
   "outputs": [
    {
     "data": {
      "image/png": "[encoded data removed]",
      "text/latex": [
       "$$\\frac{sat_{2}}{Z_{1} + Z_{2}} \\left(Z_{1} v_{1} - Z_{1} v_{2} - p_{1} + p_{2}\\right)$$"
      ],
      "text/plain": [
       "sat₂⋅(Z₁⋅v₁ - Z₁⋅v₂ - p₁ + p₂)\n",
       "──────────────────────────────\n",
       "           Z₁ + Z₂            "
      ]
     },
     "execution_count": 16,
     "metadata": {},
     "output_type": "execute_result"
    }
   ],
   "source": [
    "simplify(-sat2*(v2 - vhat))"
   ]
  },
  {
   "cell_type": "code",
   "execution_count": 17,
   "metadata": {
    "collapsed": false
   },
   "outputs": [
    {
     "data": {
      "image/png": "[encoded data removed]",
      "text/latex": [
       "$$- \\frac{Z_{1} sat_{1}}{Z_{1} + Z_{2}} \\left(Z_{2} v_{1} - Z_{2} v_{2} + p_{1} - p_{2}\\right)$$"
      ],
      "text/plain": [
       "-Z₁⋅sat₁⋅(Z₂⋅v₁ - Z₂⋅v₂ + p₁ - p₂) \n",
       "───────────────────────────────────\n",
       "              Z₁ + Z₂              "
      ]
     },
     "execution_count": 17,
     "metadata": {},
     "output_type": "execute_result"
    }
   ],
   "source": [
    "simplify(-sat1*(p1 - phat))"
   ]
  },
  {
   "cell_type": "code",
   "execution_count": 18,
   "metadata": {
    "collapsed": false
   },
   "outputs": [
    {
     "data": {
      "image/png": "[encoded data removed]",
      "text/latex": [
       "$$\\frac{Z_{2} sat_{2}}{Z_{1} + Z_{2}} \\left(- Z_{1} v_{1} + Z_{1} v_{2} + p_{1} - p_{2}\\right)$$"
      ],
      "text/plain": [
       "Z₂⋅sat₂⋅(-Z₁⋅v₁ + Z₁⋅v₂ + p₁ - p₂)\n",
       "──────────────────────────────────\n",
       "             Z₁ + Z₂              "
      ]
     },
     "execution_count": 18,
     "metadata": {},
     "output_type": "execute_result"
    }
   ],
   "source": [
    "simplify(-sat2*(p2 - phat))"
   ]
  },
  {
   "cell_type": "markdown",
   "metadata": {},
   "source": [
    "### For a crack interface"
   ]
  },
  {
   "cell_type": "code",
   "execution_count": 19,
   "metadata": {
    "collapsed": false
   },
   "outputs": [
    {
     "name": "stdout",
     "output_type": "stream",
     "text": [
      "(Z1*v1 - p1 + pc)/Z1\n",
      "(Z2*v2 + p2 - pc)/Z2\n"
     ]
    }
   ],
   "source": [
    "vhat1 = (Z1*v1-p1 + p_c)/Z1\n",
    "vhat2 = (Z2*v2+p2 - p_c)/Z2\n",
    "print(vhat1)\n",
    "print(vhat2)"
   ]
  },
  {
   "cell_type": "code",
   "execution_count": 20,
   "metadata": {
    "collapsed": false
   },
   "outputs": [
    {
     "data": {
      "image/png": "[encoded data removed]",
      "text/latex": [
       "$$\\frac{1}{Z_{1} Z_{2}} \\left(Z_{1} sat_{2} \\left(p_{2} - pc\\right) - Z_{2} sat_{1} \\left(p_{1} - pc\\right)\\right)$$"
      ],
      "text/plain": [
       "Z₁⋅sat₂⋅(p₂ - pc) - Z₂⋅sat₁⋅(p₁ - pc)\n",
       "─────────────────────────────────────\n",
       "                Z₁⋅Z₂                "
      ]
     },
     "execution_count": 20,
     "metadata": {},
     "output_type": "execute_result"
    }
   ],
   "source": [
    "simplify(-sat1*(v1 - vhat1)-sat2*(v2-vhat2))"
   ]
  },
  {
   "cell_type": "code",
   "execution_count": 22,
   "metadata": {
    "collapsed": false
   },
   "outputs": [
    {
     "data": {
      "image/png": "[encoded data removed]",
      "text/latex": [
       "$$- sat_{1} \\left(p_{1} - pc\\right) - sat_{2} \\left(p_{2} - pc\\right)$$"
      ],
      "text/plain": [
       "-sat₁⋅(p₁ - pc) - sat₂⋅(p₂ - pc)"
      ]
     },
     "execution_count": 22,
     "metadata": {},
     "output_type": "execute_result"
    }
   ],
   "source": [
    "simplify(-sat1*(p1-p_c)-sat2*(p2-p_c))"
   ]
  },
  {
   "cell_type": "code",
   "execution_count": 23,
   "metadata": {
    "collapsed": false,
    "scrolled": false
   },
   "outputs": [
    {
     "data": {
      "image/png": "[encoded data removed]",
      "text/latex": [
       "$$- A v_{1} + A v_{2} + \\frac{A p_{2}}{Z_{2}} + \\frac{A p_{1}}{Z_{1}} + pc \\left(- \\frac{A}{Z_{2}} - \\frac{A}{Z_{1}}\\right)$$"
      ],
      "text/plain": [
       "               A⋅p₂   A⋅p₁      ⎛  A    A ⎞\n",
       "-A⋅v₁ + A⋅v₂ + ──── + ──── + pc⋅⎜- ── - ──⎟\n",
       "                Z₂     Z₁       ⎝  Z₂   Z₁⎠"
      ]
     },
     "execution_count": 23,
     "metadata": {},
     "output_type": "execute_result"
    }
   ],
   "source": [
    "Q = A*(vhat2 - vhat1)\n",
    "simplify(Q).expand().collect(p_c)"
   ]
  },
  {
   "cell_type": "markdown",
   "metadata": {},
   "source": [
    "### For a crack bottom"
   ]
  },
  {
   "cell_type": "code",
   "execution_count": 13,
   "metadata": {
    "collapsed": false
   },
   "outputs": [
    {
     "data": {
      "image/png": "[encoded data removed]",
      "text/latex": [
       "$$\\frac{1}{Z_{1}} \\left(Z_{1} v_{1} - p_{1} + pc\\right)$$"
      ],
      "text/plain": [
       "Z₁⋅v₁ - p₁ + pc\n",
       "───────────────\n",
       "       Z₁      "
      ]
     },
     "execution_count": 13,
     "metadata": {},
     "output_type": "execute_result"
    }
   ],
   "source": [
    "vhat1 = (Z1*v1-p1 + p_c)/Z1\n",
    "vhat1"
   ]
  },
  {
   "cell_type": "code",
   "execution_count": 14,
   "metadata": {
    "collapsed": false
   },
   "outputs": [
    {
     "data": {
      "image/png": "[encoded data removed]",
      "text/latex": [
       "$$- \\frac{sat_{1}}{Z_{1}} \\left(p_{1} - pc\\right)$$"
      ],
      "text/plain": [
       "-sat₁⋅(p₁ - pc) \n",
       "────────────────\n",
       "       Z₁       "
      ]
     },
     "execution_count": 14,
     "metadata": {},
     "output_type": "execute_result"
    }
   ],
   "source": [
    "simplify(-sat1*(v1 - vhat1))"
   ]
  },
  {
   "cell_type": "code",
   "execution_count": 15,
   "metadata": {
    "collapsed": false
   },
   "outputs": [
    {
     "data": {
      "image/png": "[encoded data removed]",
      "text/latex": [
       "$$sat_{1} \\left(- p_{1} + pc\\right)$$"
      ],
      "text/plain": [
       "sat₁⋅(-p₁ + pc)"
      ]
     },
     "execution_count": 15,
     "metadata": {},
     "output_type": "execute_result"
    }
   ],
   "source": [
    "simplify(-sat1*(p1 - pc))"
   ]
  },
  {
   "cell_type": "code",
   "execution_count": null,
   "metadata": {
    "collapsed": true
   },
   "outputs": [],
   "source": []
  }
 ],
 "metadata": {
  "anaconda-cloud": {},
  "kernelspec": {
   "display_name": "Python [Root]",
   "language": "python",
   "name": "Python [Root]"
  },
  "language_info": {
   "codemirror_mode": {
    "name": "ipython",
    "version": 3
   },
   "file_extension": ".py",
   "mimetype": "text/x-python",
   "name": "python",
   "nbconvert_exporter": "python",
   "pygments_lexer": "ipython3",
   "version": "3.5.2"
  }
 },
 "nbformat": 4,
 "nbformat_minor": 2
}
